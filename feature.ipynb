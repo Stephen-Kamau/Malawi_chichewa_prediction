{
 "cells": [
  {
   "cell_type": "code",
   "execution_count": 87,
   "metadata": {},
   "outputs": [],
   "source": [
    "import pandas as pd\n",
    "import numpy as np\n",
    "import seaborn as sns\n",
    "import matplotlib.pyplot as plt\n",
    "from sklearn.metrics import accuracy_score\n",
    "from sklearn.feature_extraction.text import CountVectorizer , TfidfVectorizer\n",
    "from sklearn.model_selection import train_test_split\n",
    "from sklearn.preprocessing import LabelEncoder\n",
    "from sklearn.model_selection import KFold , StratifiedKFold , StratifiedShuffleSplit\n",
    "from sklearn.neighbors import KNeighborsClassifier\n",
    "import warnings\n",
    "warnings.filterwarnings(\"ignore\")\n",
    "\n",
    "\n",
    "# models \n",
    "from sklearn.naive_bayes import MultinomialNB\n",
    "from catboost import CatBoostClassifier , Pool\n",
    "from xgboost import XGBClassifier , DMatrix\n",
    "from lightgbm import LGBMClassifier\n",
    "import xgboost as xgb\n",
    "from sklearn.ensemble import (\n",
    "    AdaBoostClassifier,\n",
    "    RandomForestClassifier,\n",
    "    StackingClassifier,\n",
    "    VotingClassifier,\n",
    "    BaggingClassifier\n",
    ")\n",
    "from sklearn.linear_model import LogisticRegression\n",
    "from sklearn.tree import DecisionTreeClassifier\n",
    "from sklearn.discriminant_analysis import LinearDiscriminantAnalysis\n",
    "from sklearn.svm import SVC\n",
    "import re\n",
    "import nltk"
   ]
  },
  {
   "cell_type": "code",
   "execution_count": 88,
   "metadata": {},
   "outputs": [],
   "source": [
    "train = pd.read_csv(\"Train.csv\")\n",
    "test = pd.read_csv(\"Test.csv\")\n",
    "sub = pd.read_csv(\"SampleSubmission.csv\")"
   ]
  },
  {
   "cell_type": "code",
   "execution_count": 89,
   "metadata": {},
   "outputs": [
    {
     "data": {
      "text/plain": [
       "POLITICS                279\n",
       "SOCIAL                  152\n",
       "RELIGION                147\n",
       "LAW/ORDER               136\n",
       "SOCIAL ISSUES           134\n",
       "HEALTH                  127\n",
       "ECONOMY                  86\n",
       "FARMING                  78\n",
       "SPORTS                   49\n",
       "EDUCATION                43\n",
       "RELATIONSHIPS            39\n",
       "WILDLIFE/ENVIRONMENT     36\n",
       "OPINION/ESSAY            26\n",
       "LOCALCHIEFS              25\n",
       "CULTURE                  23\n",
       "WITCHCRAFT               16\n",
       "MUSIC                    15\n",
       "Name: Label, dtype: int64"
      ]
     },
     "execution_count": 89,
     "metadata": {},
     "output_type": "execute_result"
    }
   ],
   "source": [
    "train['Label'].value_counts()[:17]"
   ]
  },
  {
   "cell_type": "code",
   "execution_count": 90,
   "metadata": {},
   "outputs": [],
   "source": [
    "train = train[train['Label'].str.contains(\"|\".join(list(train['Label'].value_counts()[:17].keys())))]"
   ]
  },
  {
   "cell_type": "code",
   "execution_count": null,
   "metadata": {},
   "outputs": [],
   "source": []
  },
  {
   "cell_type": "code",
   "execution_count": 91,
   "metadata": {},
   "outputs": [],
   "source": [
    "def cleanText(text):\n",
    "#     text = re.sub(r\"[^A-Za-z0-9]\", \" \", text)\n",
    "#     text = re.sub(r'\\b\\d+(?:\\.\\d+)?\\s+', '', text)\n",
    "    text = re.sub('\\n' , '' , text)\n",
    "#     text = text.lower()\n",
    "    return text"
   ]
  },
  {
   "cell_type": "code",
   "execution_count": 92,
   "metadata": {},
   "outputs": [
    {
     "data": {
      "text/plain": [
       "True"
      ]
     },
     "execution_count": 92,
     "metadata": {},
     "output_type": "execute_result"
    }
   ],
   "source": [
    "# len([x for x in train['Text'][0].split() if x.isupper()])\n",
    "x = \"Steve has Been the344re BE  BU\"\n",
    "\"34\".isdigit()"
   ]
  },
  {
   "cell_type": "code",
   "execution_count": 93,
   "metadata": {},
   "outputs": [],
   "source": [
    "# Counter([x for x in train['Text'][0].split() if len(x)>3]).most_common(6)\n",
    "# \" \".join([x for x in train['Text'][0].split() if len(x)>3])"
   ]
  },
  {
   "cell_type": "code",
   "execution_count": 94,
   "metadata": {},
   "outputs": [],
   "source": [
    "train['cleaned'] = train['Text'].apply(lambda text : \" \".join([x for x in text.split() if len(x)>3]))\n",
    "test['cleaned'] = test['Text'].apply(lambda text : \" \".join([x for x in text.split() if len(x)>3]))\n",
    "\n",
    "\n"
   ]
  },
  {
   "cell_type": "code",
   "execution_count": 95,
   "metadata": {},
   "outputs": [],
   "source": [
    "# function to create fetures\n",
    "import string\n",
    "from string import punctuation as is_punct\n",
    "# len of words with more \n",
    "def getNumChar(text , cha ):\n",
    "    return len(re.findall(cha , text))\n",
    "\n",
    "def features(df):\n",
    "    df['Text'] = df['Text'].apply(cleanText)\n",
    "    df['str_length'] = df['Text'].apply(len)\n",
    "    df['word_length'] = df['Text'].apply(lambda text: len([x for x in text.split()]))\n",
    "    df['n_unique'] = df['Text'].apply(lambda text : len(set(x for x in text.split())))\n",
    "    df['n_upper'] = df['Text'].apply(lambda text : len([x for x in text.split() if x.isupper()]))\n",
    "    df['n_title'] = df['Text'].apply(lambda text : len([x for x in text.split() if x.istitle()]))\n",
    "    df['n_caps'] = df['Text'].apply(lambda text : len([x for x in text if x.isupper()]))\n",
    "    df['n_no_caps'] = df['Text'].apply(lambda text : len([x for x in text if not x.isupper()]))\n",
    "    df['n_digits'] = df['Text'].apply(lambda text : len([x for x in text if x.isupper()]))\n",
    "\n",
    "    for each_char in string.ascii_lowercase:\n",
    "        df[f'{each_char}_char'] = df['Text'].apply(lambda x : getNumChar(x , each_char))\n",
    "        # found len of numbers\n",
    "    df['digit_count'] = df['Text'].apply(lambda x: len([w for w in re.findall(r'[0-9]+', str(x))]))\n",
    "#     n caps following\n",
    "    df['N_caps_follows'] = df['Text'].apply(lambda text: len([re.findall(\"[A-Z]{2,}\" , text)]))\n",
    "    # sum all digits\n",
    "    \n",
    "    df['sum_digit'] = df['Text'].apply(lambda x: sum([int(w) for w in re.findall(r'[0-9]+', str(x))]))\n",
    "    # average digits\n",
    "    df['average_digit'] = df['Text'].apply(lambda x: np.mean([int(w) for w in re.findall(r'[0-9]+', str(x))])).fillna(value =0)\n",
    "    # Number of punctuations in the text ##\n",
    "    df[\"num_punctuations\"] =df['Text'].apply(lambda x: len([c for c in str(x) if c in string.punctuation]) )\n",
    "    # Number of title case words in the text ##\n",
    "    df[\"num_words_upper\"] = df[\"Text\"].apply(lambda x: len([w for w in str(x).split() if w.isupper()]))\n",
    "    \n",
    "\n",
    "    print('Features created')"
   ]
  },
  {
   "cell_type": "code",
   "execution_count": 96,
   "metadata": {},
   "outputs": [
    {
     "name": "stdout",
     "output_type": "stream",
     "text": [
      "Features created\n",
      "Features created\n"
     ]
    },
    {
     "data": {
      "text/html": [
       "<div>\n",
       "<style scoped>\n",
       "    .dataframe tbody tr th:only-of-type {\n",
       "        vertical-align: middle;\n",
       "    }\n",
       "\n",
       "    .dataframe tbody tr th {\n",
       "        vertical-align: top;\n",
       "    }\n",
       "\n",
       "    .dataframe thead th {\n",
       "        text-align: right;\n",
       "    }\n",
       "</style>\n",
       "<table border=\"1\" class=\"dataframe\">\n",
       "  <thead>\n",
       "    <tr style=\"text-align: right;\">\n",
       "      <th></th>\n",
       "      <th>ID</th>\n",
       "      <th>Text</th>\n",
       "      <th>Label</th>\n",
       "      <th>cleaned</th>\n",
       "      <th>str_length</th>\n",
       "      <th>word_length</th>\n",
       "      <th>n_unique</th>\n",
       "      <th>n_upper</th>\n",
       "      <th>n_title</th>\n",
       "      <th>n_caps</th>\n",
       "      <th>...</th>\n",
       "      <th>w_char</th>\n",
       "      <th>x_char</th>\n",
       "      <th>y_char</th>\n",
       "      <th>z_char</th>\n",
       "      <th>digit_count</th>\n",
       "      <th>N_caps_follows</th>\n",
       "      <th>sum_digit</th>\n",
       "      <th>average_digit</th>\n",
       "      <th>num_punctuations</th>\n",
       "      <th>num_words_upper</th>\n",
       "    </tr>\n",
       "  </thead>\n",
       "  <tbody>\n",
       "    <tr>\n",
       "      <th>0</th>\n",
       "      <td>ID_AASHwXxg</td>\n",
       "      <td>Mwangonde: Khansala wachinyamata Akamati achi...</td>\n",
       "      <td>POLITICS</td>\n",
       "      <td>Mwangonde: Khansala wachinyamata Akamati achin...</td>\n",
       "      <td>2620</td>\n",
       "      <td>331</td>\n",
       "      <td>248</td>\n",
       "      <td>3</td>\n",
       "      <td>70</td>\n",
       "      <td>84</td>\n",
       "      <td>...</td>\n",
       "      <td>67</td>\n",
       "      <td>0</td>\n",
       "      <td>50</td>\n",
       "      <td>52</td>\n",
       "      <td>2</td>\n",
       "      <td>1</td>\n",
       "      <td>39</td>\n",
       "      <td>19.5</td>\n",
       "      <td>44</td>\n",
       "      <td>3</td>\n",
       "    </tr>\n",
       "    <tr>\n",
       "      <th>1</th>\n",
       "      <td>ID_AGoFySzn</td>\n",
       "      <td>MCP siidakhutire ndi kalembera Chipani cha Ma...</td>\n",
       "      <td>POLITICS</td>\n",
       "      <td>siidakhutire kalembera Chipani Malawi Congress...</td>\n",
       "      <td>2704</td>\n",
       "      <td>370</td>\n",
       "      <td>248</td>\n",
       "      <td>12</td>\n",
       "      <td>59</td>\n",
       "      <td>99</td>\n",
       "      <td>...</td>\n",
       "      <td>93</td>\n",
       "      <td>0</td>\n",
       "      <td>48</td>\n",
       "      <td>53</td>\n",
       "      <td>15</td>\n",
       "      <td>1</td>\n",
       "      <td>4185</td>\n",
       "      <td>279.0</td>\n",
       "      <td>53</td>\n",
       "      <td>12</td>\n",
       "    </tr>\n",
       "    <tr>\n",
       "      <th>2</th>\n",
       "      <td>ID_AGrrkBGP</td>\n",
       "      <td>Bungwe la MANEPO Lapempha Boma Liganizire Anth...</td>\n",
       "      <td>HEALTH</td>\n",
       "      <td>Bungwe MANEPO Lapempha Boma Liganizire Anthu A...</td>\n",
       "      <td>935</td>\n",
       "      <td>129</td>\n",
       "      <td>93</td>\n",
       "      <td>5</td>\n",
       "      <td>23</td>\n",
       "      <td>50</td>\n",
       "      <td>...</td>\n",
       "      <td>31</td>\n",
       "      <td>0</td>\n",
       "      <td>11</td>\n",
       "      <td>19</td>\n",
       "      <td>3</td>\n",
       "      <td>1</td>\n",
       "      <td>57</td>\n",
       "      <td>19.0</td>\n",
       "      <td>12</td>\n",
       "      <td>5</td>\n",
       "    </tr>\n",
       "    <tr>\n",
       "      <th>3</th>\n",
       "      <td>ID_AIJeigeG</td>\n",
       "      <td>Ndale zogawanitsa miyambo zanyanya Si zachile...</td>\n",
       "      <td>POLITICS</td>\n",
       "      <td>Ndale zogawanitsa miyambo zanyanya zachilendon...</td>\n",
       "      <td>3552</td>\n",
       "      <td>463</td>\n",
       "      <td>304</td>\n",
       "      <td>0</td>\n",
       "      <td>85</td>\n",
       "      <td>88</td>\n",
       "      <td>...</td>\n",
       "      <td>137</td>\n",
       "      <td>0</td>\n",
       "      <td>45</td>\n",
       "      <td>76</td>\n",
       "      <td>0</td>\n",
       "      <td>1</td>\n",
       "      <td>0</td>\n",
       "      <td>0.0</td>\n",
       "      <td>46</td>\n",
       "      <td>0</td>\n",
       "    </tr>\n",
       "    <tr>\n",
       "      <th>4</th>\n",
       "      <td>ID_APMprMbV</td>\n",
       "      <td>Nanga wapolisi ataphofomoka? Masiku ano sichi...</td>\n",
       "      <td>LAW/ORDER</td>\n",
       "      <td>Nanga wapolisi ataphofomoka? Masiku sichikhala...</td>\n",
       "      <td>371</td>\n",
       "      <td>45</td>\n",
       "      <td>43</td>\n",
       "      <td>0</td>\n",
       "      <td>5</td>\n",
       "      <td>5</td>\n",
       "      <td>...</td>\n",
       "      <td>15</td>\n",
       "      <td>0</td>\n",
       "      <td>4</td>\n",
       "      <td>2</td>\n",
       "      <td>0</td>\n",
       "      <td>1</td>\n",
       "      <td>0</td>\n",
       "      <td>0.0</td>\n",
       "      <td>8</td>\n",
       "      <td>0</td>\n",
       "    </tr>\n",
       "  </tbody>\n",
       "</table>\n",
       "<p>5 rows × 44 columns</p>\n",
       "</div>"
      ],
      "text/plain": [
       "            ID                                               Text      Label  \\\n",
       "0  ID_AASHwXxg   Mwangonde: Khansala wachinyamata Akamati achi...   POLITICS   \n",
       "1  ID_AGoFySzn   MCP siidakhutire ndi kalembera Chipani cha Ma...   POLITICS   \n",
       "2  ID_AGrrkBGP  Bungwe la MANEPO Lapempha Boma Liganizire Anth...     HEALTH   \n",
       "3  ID_AIJeigeG   Ndale zogawanitsa miyambo zanyanya Si zachile...   POLITICS   \n",
       "4  ID_APMprMbV   Nanga wapolisi ataphofomoka? Masiku ano sichi...  LAW/ORDER   \n",
       "\n",
       "                                             cleaned  str_length  word_length  \\\n",
       "0  Mwangonde: Khansala wachinyamata Akamati achin...        2620          331   \n",
       "1  siidakhutire kalembera Chipani Malawi Congress...        2704          370   \n",
       "2  Bungwe MANEPO Lapempha Boma Liganizire Anthu A...         935          129   \n",
       "3  Ndale zogawanitsa miyambo zanyanya zachilendon...        3552          463   \n",
       "4  Nanga wapolisi ataphofomoka? Masiku sichikhala...         371           45   \n",
       "\n",
       "   n_unique  n_upper  n_title  n_caps  ...  w_char  x_char  y_char  z_char  \\\n",
       "0       248        3       70      84  ...      67       0      50      52   \n",
       "1       248       12       59      99  ...      93       0      48      53   \n",
       "2        93        5       23      50  ...      31       0      11      19   \n",
       "3       304        0       85      88  ...     137       0      45      76   \n",
       "4        43        0        5       5  ...      15       0       4       2   \n",
       "\n",
       "   digit_count  N_caps_follows  sum_digit  average_digit  num_punctuations  \\\n",
       "0            2               1         39           19.5                44   \n",
       "1           15               1       4185          279.0                53   \n",
       "2            3               1         57           19.0                12   \n",
       "3            0               1          0            0.0                46   \n",
       "4            0               1          0            0.0                 8   \n",
       "\n",
       "   num_words_upper  \n",
       "0                3  \n",
       "1               12  \n",
       "2                5  \n",
       "3                0  \n",
       "4                0  \n",
       "\n",
       "[5 rows x 44 columns]"
      ]
     },
     "execution_count": 96,
     "metadata": {},
     "output_type": "execute_result"
    }
   ],
   "source": [
    "features(test)\n",
    "features(train)\n",
    "train.head()\n",
    "\n",
    "# is_punct"
   ]
  },
  {
   "cell_type": "code",
   "execution_count": 97,
   "metadata": {},
   "outputs": [],
   "source": [
    "labels = train['Label']\n",
    "enc = LabelEncoder()\n",
    "enc.fit(labels)\n",
    "\n",
    "train['Label'] = enc.transform(labels)\n",
    "\n",
    "labels = train['Label']"
   ]
  },
  {
   "cell_type": "code",
   "execution_count": 98,
   "metadata": {},
   "outputs": [
    {
     "data": {
      "text/plain": [
       "(1411,)"
      ]
     },
     "execution_count": 98,
     "metadata": {},
     "output_type": "execute_result"
    }
   ],
   "source": [
    "labels.shape"
   ]
  },
  {
   "cell_type": "code",
   "execution_count": 99,
   "metadata": {},
   "outputs": [
    {
     "data": {
      "text/plain": [
       "<AxesSubplot:xlabel='Label', ylabel='count'>"
      ]
     },
     "execution_count": 99,
     "metadata": {},
     "output_type": "execute_result"
    },
    {
     "data": {
      "image/png": "[encoded data removed]",
      "text/plain": [
       "<Figure size 864x576 with 1 Axes>"
      ]
     },
     "metadata": {
      "needs_background": "light"
     },
     "output_type": "display_data"
    }
   ],
   "source": [
    "# train['Text'][0]\n",
    "plt.figure(figsize =(12,8))\n",
    "sns.countplot(train['Label'])"
   ]
  },
  {
   "cell_type": "code",
   "execution_count": 101,
   "metadata": {},
   "outputs": [
    {
     "data": {
      "text/plain": [
       "array([ 9,  4,  5, 11,  3, 15, 13, 12,  8,  6, 16,  1, 14, 10,  0,  2,  7])"
      ]
     },
     "execution_count": 101,
     "metadata": {},
     "output_type": "execute_result"
    }
   ],
   "source": [
    "train['Label'].unique()\n",
    "\n"
   ]
  },
  {
   "cell_type": "code",
   "execution_count": 188,
   "metadata": {},
   "outputs": [],
   "source": [
    "\n",
    "\n",
    "\n",
    "from collections import Counter"
   ]
  },
  {
   "cell_type": "code",
   "execution_count": 189,
   "metadata": {},
   "outputs": [],
   "source": [
    "# \" \".join(list(train['Text']))"
   ]
  },
  {
   "cell_type": "code",
   "execution_count": 192,
   "metadata": {},
   "outputs": [],
   "source": [
    "# A = train[train['Label'] !=11]\n",
    "\n",
    "# A = pd.concat([A , train[train['Label'] ==11].sample(150)] , axis =0 )"
   ]
  },
  {
   "cell_type": "code",
   "execution_count": 191,
   "metadata": {},
   "outputs": [],
   "source": [
    "# labels = A['Label']\n",
    "# enc = LabelEncoder()\n",
    "# enc.fit(labels)\n",
    "\n",
    "# A['Label'] = enc.transform(labels)\n",
    "\n",
    "# labels = A['Label']"
   ]
  },
  {
   "cell_type": "code",
   "execution_count": 102,
   "metadata": {},
   "outputs": [],
   "source": [
    "vec = CountVectorizer(ngram_range=(1,1))\n",
    "vec.fit(list(train['cleaned'])+list(test['cleaned']))\n",
    "X = vec.transform(train['cleaned'])\n",
    "test_df = vec.transform(test['cleaned'])\n"
   ]
  },
  {
   "cell_type": "code",
   "execution_count": 64,
   "metadata": {},
   "outputs": [
    {
     "data": {
      "text/plain": [
       "<1411x63225 sparse matrix of type '<class 'numpy.int64'>'\n",
       "\twith 235129 stored elements in Compressed Sparse Row format>"
      ]
     },
     "execution_count": 64,
     "metadata": {},
     "output_type": "execute_result"
    }
   ],
   "source": [
    "X # test_df.shape , X.shape "
   ]
  },
  {
   "cell_type": "code",
   "execution_count": 103,
   "metadata": {},
   "outputs": [],
   "source": [
    "def turnToDense(df):\n",
    "    new_df = pd.DataFrame(df.todense())\n",
    "    new_df.columns = [\"cleaned_\"+str(i)  for i in range(new_df.shape[1])]\n",
    "    \n",
    "    return new_df\n",
    "    "
   ]
  },
  {
   "cell_type": "code",
   "execution_count": 104,
   "metadata": {},
   "outputs": [],
   "source": [
    "train_df =train.drop(['ID' , \"Label\" , \"Text\" , \"cleaned\"] , axis =1).copy()\n",
    "testdf =test.drop(['ID' , \"Text\" , \"cleaned\" ] , axis =1).copy()"
   ]
  },
  {
   "cell_type": "code",
   "execution_count": 105,
   "metadata": {},
   "outputs": [
    {
     "data": {
      "text/plain": [
       "((1411, 40), (620, 40))"
      ]
     },
     "execution_count": 105,
     "metadata": {},
     "output_type": "execute_result"
    }
   ],
   "source": [
    "train_df.shape , testdf.shape"
   ]
  },
  {
   "cell_type": "code",
   "execution_count": 106,
   "metadata": {},
   "outputs": [
    {
     "data": {
      "text/plain": [
       "((620, 63225), (1411, 63225))"
      ]
     },
     "execution_count": 106,
     "metadata": {},
     "output_type": "execute_result"
    }
   ],
   "source": [
    "# add the data to the datas\n",
    "new_tr = turnToDense(X)\n",
    "new_te = turnToDense(test_df)\n",
    "\n",
    "new_te.shape , new_tr.shape"
   ]
  },
  {
   "cell_type": "code",
   "execution_count": 69,
   "metadata": {},
   "outputs": [],
   "source": [
    "# len(new_tr.columns[new_tr.sum() < 20])\n",
    "# new_tr[new_tr.columns[new_tr.sum() < 20]].sum(axis = 0)"
   ]
  },
  {
   "cell_type": "code",
   "execution_count": 107,
   "metadata": {},
   "outputs": [
    {
     "data": {
      "text/plain": [
       "((1435, 2156), (620, 2156))"
      ]
     },
     "execution_count": 107,
     "metadata": {},
     "output_type": "execute_result"
    }
   ],
   "source": [
    "train_df = pd.concat([train_df , new_tr[new_tr.columns[new_tr.sum() > 20]]] , axis =1)\n",
    "testdf = pd.concat([testdf , new_te[new_tr.columns[new_tr.sum() > 20]]] , axis =1)\n",
    "testdf['sumed'] = new_te[new_tr.columns[new_tr.sum() < 20]].sum(axis = 0).fillna(0)\n",
    "train_df['sumed'] = new_tr[new_tr.columns[new_tr.sum() < 20]].sum(axis = 0).fillna(0)\n",
    "train_df.shape , testdf.shape"
   ]
  },
  {
   "cell_type": "code",
   "execution_count": 71,
   "metadata": {},
   "outputs": [],
   "source": [
    "# from imblearn.over_sampling import SMOTE \n",
    "\n",
    "# sm = SMOTE(random_state=42 , k_neighbors =6)\n",
    "\n",
    "# A , B = sm.fit_resample(train_df , train['Label'])"
   ]
  },
  {
   "cell_type": "code",
   "execution_count": 72,
   "metadata": {},
   "outputs": [
    {
     "data": {
      "text/plain": [
       "array(<bound method IndexOpsMixin.value_counts of 0        9\n",
       "1        9\n",
       "2        4\n",
       "3        9\n",
       "4        5\n",
       "        ..\n",
       "1430     4\n",
       "1432     9\n",
       "1433     2\n",
       "1434    13\n",
       "1435     9\n",
       "Name: Label, Length: 1411, dtype: int64>, dtype=object)"
      ]
     },
     "execution_count": 72,
     "metadata": {},
     "output_type": "execute_result"
    }
   ],
   "source": [
    "np.array(train['Label'].value_counts)"
   ]
  },
  {
   "cell_type": "code",
   "execution_count": 29,
   "metadata": {},
   "outputs": [],
   "source": [
    "# sns.countplot(A['Label'])\n",
    "# A[A['Label'] ==11].shape"
   ]
  },
  {
   "cell_type": "code",
   "execution_count": 150,
   "metadata": {},
   "outputs": [],
   "source": [
    "# X.shape"
   ]
  },
  {
   "cell_type": "code",
   "execution_count": 30,
   "metadata": {},
   "outputs": [
    {
     "data": {
      "text/plain": [
       "True"
      ]
     },
     "execution_count": 30,
     "metadata": {},
     "output_type": "execute_result"
    }
   ],
   "source": [
    "list(testdf.columns) == list(train_df.columns)"
   ]
  },
  {
   "cell_type": "code",
   "execution_count": 108,
   "metadata": {},
   "outputs": [],
   "source": [
    "X_train , Xval , y_train , yval =train_test_split(\n",
    "#     train.drop(['ID' , \"Text\" , \"Label\",\"cleaned\"] , axis =1),\n",
    "#     train_df , \n",
    "    X,\n",
    "    train['Label'],\n",
    "    random_state=2020,\n",
    "    test_size=0.1\n",
    ")"
   ]
  },
  {
   "cell_type": "code",
   "execution_count": 109,
   "metadata": {},
   "outputs": [
    {
     "data": {
      "text/plain": [
       "<AxesSubplot:xlabel='Label', ylabel='count'>"
      ]
     },
     "execution_count": 109,
     "metadata": {},
     "output_type": "execute_result"
    },
    {
     "data": {
      "image/png": "[encoded data removed]",
      "text/plain": [
       "<Figure size 432x288 with 1 Axes>"
      ]
     },
     "metadata": {
      "needs_background": "light"
     },
     "output_type": "display_data"
    }
   ],
   "source": [
    "sns.countplot(train['Label'])"
   ]
  },
  {
   "cell_type": "code",
   "execution_count": 34,
   "metadata": {},
   "outputs": [],
   "source": [
    "# from sklearn.utils import class_weight\n",
    "# # help(class_weight)\n",
    "# wgt = class_weight.compute_class_weight('balanced' , train['Label'].unique() , train['Label'])\n",
    "\n",
    "# aa = {}\n",
    "\n",
    "# for i in range(14):\n",
    "#     aa[i] = wgt[i]+12\n",
    "# aa[10] = wgt[10]\n",
    "# aa"
   ]
  },
  {
   "cell_type": "code",
   "execution_count": 111,
   "metadata": {},
   "outputs": [
    {
     "name": "stdout",
     "output_type": "stream",
     "text": [
      "Accuracy score is  0.6690140845070423\n"
     ]
    }
   ],
   "source": [
    "# base model\n",
    "from sklearn.naive_bayes import GaussianNB \n",
    "from sklearn.svm import SVC\n",
    "from sklearn.ensemble import GradientBoostingClassifier\n",
    "\n",
    "lr =LGBMClassifier(\n",
    "#     penalty='l2',\n",
    "#     tol = 0.05,\n",
    "#     max_iter = 5000,\n",
    "#     class_weight='balanced',\n",
    "#     solver ='saga'\n",
    "#     metric='acuracy',\n",
    "#     logging_level=\"Silent\",\n",
    "#     learning_rate = 0.05,\n",
    "#     n_estimators = 500,\n",
    "\n",
    ")\n",
    "from sklearn.linear_model import SGDClassifier\n",
    "\n",
    "# sdg = BaggingClassifier(\n",
    "#     SGDClassifier(loss = 'log', \n",
    "# #                    alpha = 0.01,\n",
    "                    \n",
    "#                     max_iter = 10000,\n",
    "#                     tol = 0.001,\n",
    "#                    penalty = \"elasticnet\", \n",
    "#                     class_weight = \"balanced\",\n",
    "#                     random_state=2020,\n",
    "#                     n_iter_no_change=100\n",
    "# #                     eta0 =0.1\n",
    "                    \n",
    "# #                    l1_ratio = 0.15\n",
    "#                    ) ,n_estimators=1200\n",
    "# )\n",
    "\n",
    "sdg =     SGDClassifier(loss = 'log', \n",
    "#                    alpha = 0.01,\n",
    "                    \n",
    "                    max_iter = 10000,\n",
    "                    tol = 0.001,\n",
    "                   penalty = \"elasticnet\", \n",
    "                    class_weight = \"balanced\",\n",
    "                    random_state=2020,\n",
    "                    n_iter_no_change=100\n",
    "#                     eta0 =0.1\n",
    "                    \n",
    "#                    l1_ratio = 0.15\n",
    "                   )\n",
    "from sklearn.preprocessing import StandardScaler\n",
    "# scaler = StandardScaler()\n",
    "sdg.fit(X_train , y_train)\n",
    "\n",
    "preds = sdg.predict(Xval)\n",
    "\n",
    "print(f\"Accuracy score is  {accuracy_score(yval , preds)}\")"
   ]
  },
  {
   "cell_type": "code",
   "execution_count": 50,
   "metadata": {},
   "outputs": [],
   "source": [
    "from sklearn import linear_model"
   ]
  },
  {
   "cell_type": "code",
   "execution_count": 110,
   "metadata": {},
   "outputs": [
    {
     "name": "stdout",
     "output_type": "stream",
     "text": [
      "Accuracy score is  0.6619718309859155\n"
     ]
    }
   ],
   "source": [
    "from sklearn.neural_network import MLPClassifier\n",
    "\n",
    "\n",
    "clf = MLPClassifier(\n",
    "#     solver=\"sgd\",\n",
    "#     activation=\"tanh\",\n",
    "#     hidden_layer_sizes =(120 ,3),\n",
    "    learning_rate_init = 0.006,\n",
    "    \n",
    "    \n",
    ")\n",
    "clf.fit(X_train , y_train)\n",
    "\n",
    "preds = clf.predict(Xval)\n",
    "\n",
    "print(f\"Accuracy score is  {accuracy_score(yval , preds)}\")"
   ]
  },
  {
   "cell_type": "code",
   "execution_count": 112,
   "metadata": {},
   "outputs": [
    {
     "name": "stdout",
     "output_type": "stream",
     "text": [
      "0.6901408450704225\n"
     ]
    }
   ],
   "source": [
    "preds = (sdg.predict_proba(Xval)+clf.predict_proba(Xval))# predsx = []\n",
    "predsx = [preds[i].argmax() for i in range(len(preds))]\n",
    "print(accuracy_score(yval , predsx))"
   ]
  },
  {
   "cell_type": "code",
   "execution_count": null,
   "metadata": {},
   "outputs": [],
   "source": [
    "# np.zeros((test.shape[0] , 20) , dtype = 'float64')  +np.ones((test.shape[0] , 20) , dtype = 'float64')"
   ]
  },
  {
   "cell_type": "code",
   "execution_count": 37,
   "metadata": {},
   "outputs": [],
   "source": [
    "# # try cv\n",
    "# score =[]\n",
    "# pre = np.zeros((test.shape[0] , 20) , dtype = 'float64')\n",
    "# cv = StratifiedKFold(n_splits = 3 , shuffle = True , random_state =2020)\n",
    "# for train_index , test_index in cv.split(X , train[\"Label\"]):\n",
    "#     Xtrain , Xtest = X[train_index] , X[test_index]\n",
    "#     ytrain , ytest = train[\"Label\"].loc[train_index] , train[\"Label\"].loc[test_index]\n",
    "#     model = LogisticRegression(penalty='l2',max_iter = 5000,class_weight=\"balanced\",solver ='saga')\n",
    "#     model.fit(Xtrain , ytrain)\n",
    "#     xx = model.predict_proba(vec.transform(test['cleaned']))\n",
    "#     score.append(accuracy_score(ytest , lr.predict(Xtest)))\n",
    "#     pre = pre + xx\n",
    "    \n"
   ]
  },
  {
   "cell_type": "code",
   "execution_count": null,
   "metadata": {},
   "outputs": [],
   "source": []
  },
  {
   "cell_type": "code",
   "execution_count": 67,
   "metadata": {},
   "outputs": [],
   "source": [
    "# accuracy_score(lr.predict(train.drop(['ID' , \"Text\" , 'Label'] , axis =1) ) , train['Label'])"
   ]
  },
  {
   "cell_type": "code",
   "execution_count": null,
   "metadata": {},
   "outputs": [],
   "source": [
    "features(test)"
   ]
  },
  {
   "cell_type": "code",
   "execution_count": 114,
   "metadata": {},
   "outputs": [],
   "source": [
    "pre = (sdg.predict_proba(test_df)+clf.predict_proba(test_df))# predsx = []\n",
    "# predsx = [pre[i].argmax() for i in range(len(preds))]\n",
    "# print(accuracy_score(yval , predsx))\n",
    "test[\"Label\"] = [pre[i].argmax() for i in range(len(pre))]\n",
    "test['Label'] = enc.inverse_transform(test['Label'])"
   ]
  },
  {
   "cell_type": "code",
   "execution_count": 84,
   "metadata": {},
   "outputs": [],
   "source": [
    "# test['Label']"
   ]
  },
  {
   "cell_type": "code",
   "execution_count": 115,
   "metadata": {},
   "outputs": [],
   "source": [
    "test[[\"ID\" , \"Label\"]].to_csv(\"lri.csv\" , index = False)"
   ]
  },
  {
   "cell_type": "code",
   "execution_count": 116,
   "metadata": {},
   "outputs": [
    {
     "data": {
      "text/html": [
       "<div>\n",
       "<style scoped>\n",
       "    .dataframe tbody tr th:only-of-type {\n",
       "        vertical-align: middle;\n",
       "    }\n",
       "\n",
       "    .dataframe tbody tr th {\n",
       "        vertical-align: top;\n",
       "    }\n",
       "\n",
       "    .dataframe thead th {\n",
       "        text-align: right;\n",
       "    }\n",
       "</style>\n",
       "<table border=\"1\" class=\"dataframe\">\n",
       "  <thead>\n",
       "    <tr style=\"text-align: right;\">\n",
       "      <th></th>\n",
       "      <th>ID</th>\n",
       "      <th>Label</th>\n",
       "    </tr>\n",
       "  </thead>\n",
       "  <tbody>\n",
       "    <tr>\n",
       "      <th>0</th>\n",
       "      <td>ID_ADHEtjTi</td>\n",
       "      <td>SOCIAL ISSUES</td>\n",
       "    </tr>\n",
       "    <tr>\n",
       "      <th>1</th>\n",
       "      <td>ID_AHfJktdQ</td>\n",
       "      <td>RELIGION</td>\n",
       "    </tr>\n",
       "    <tr>\n",
       "      <th>2</th>\n",
       "      <td>ID_AUJIHpZr</td>\n",
       "      <td>RELATIONSHIPS</td>\n",
       "    </tr>\n",
       "    <tr>\n",
       "      <th>3</th>\n",
       "      <td>ID_AUKYBbIM</td>\n",
       "      <td>SOCIAL ISSUES</td>\n",
       "    </tr>\n",
       "    <tr>\n",
       "      <th>4</th>\n",
       "      <td>ID_AZnsVPEi</td>\n",
       "      <td>HEALTH</td>\n",
       "    </tr>\n",
       "    <tr>\n",
       "      <th>...</th>\n",
       "      <td>...</td>\n",
       "      <td>...</td>\n",
       "    </tr>\n",
       "    <tr>\n",
       "      <th>615</th>\n",
       "      <td>ID_zdpOUWyJ</td>\n",
       "      <td>LAW/ORDER</td>\n",
       "    </tr>\n",
       "    <tr>\n",
       "      <th>616</th>\n",
       "      <td>ID_zhnOomuu</td>\n",
       "      <td>RELATIONSHIPS</td>\n",
       "    </tr>\n",
       "    <tr>\n",
       "      <th>617</th>\n",
       "      <td>ID_zmWHvBJb</td>\n",
       "      <td>POLITICS</td>\n",
       "    </tr>\n",
       "    <tr>\n",
       "      <th>618</th>\n",
       "      <td>ID_zphjdFIb</td>\n",
       "      <td>SOCIAL ISSUES</td>\n",
       "    </tr>\n",
       "    <tr>\n",
       "      <th>619</th>\n",
       "      <td>ID_ztdtrNxt</td>\n",
       "      <td>POLITICS</td>\n",
       "    </tr>\n",
       "  </tbody>\n",
       "</table>\n",
       "<p>620 rows × 2 columns</p>\n",
       "</div>"
      ],
      "text/plain": [
       "              ID          Label\n",
       "0    ID_ADHEtjTi  SOCIAL ISSUES\n",
       "1    ID_AHfJktdQ       RELIGION\n",
       "2    ID_AUJIHpZr  RELATIONSHIPS\n",
       "3    ID_AUKYBbIM  SOCIAL ISSUES\n",
       "4    ID_AZnsVPEi         HEALTH\n",
       "..           ...            ...\n",
       "615  ID_zdpOUWyJ      LAW/ORDER\n",
       "616  ID_zhnOomuu  RELATIONSHIPS\n",
       "617  ID_zmWHvBJb       POLITICS\n",
       "618  ID_zphjdFIb  SOCIAL ISSUES\n",
       "619  ID_ztdtrNxt       POLITICS\n",
       "\n",
       "[620 rows x 2 columns]"
      ]
     },
     "execution_count": 116,
     "metadata": {},
     "output_type": "execute_result"
    }
   ],
   "source": [
    "test[[\"ID\" , \"Label\"]]"
   ]
  },
  {
   "cell_type": "code",
   "execution_count": 248,
   "metadata": {},
   "outputs": [],
   "source": [
    "def add_prob_features(vectorizer, col, model, prefix, cv=5):\n",
    "    vectorizer.fit(train[col].append(test[col]))\n",
    "    X = vectorizer.transform(train[col])\n",
    "    X_test = vectorizer.transform(test[col])\n",
    "    \n",
    "    cv_scores = []\n",
    "    pred_test = 0\n",
    "    pred_train = np.zeros([train.shape[0], 3])\n",
    "    kf = StratifiedKFold(n_splits=cv, shuffle=True, random_state=123)\n",
    "    \n",
    "    print('CV started')\n",
    "    for train_index, dev_index in kf.split(X, y):\n",
    "        X_train, X_dev = X[train_index], X[dev_index]\n",
    "        y_train, y_dev = y[train_index], y[dev_index]\n",
    "        \n",
    "        model.fit(X_train, y_train)\n",
    "        pred_dev   = model.predict_proba(X_dev)\n",
    "        pred_test += model.predict_proba(X_test)\n",
    "    \n",
    "        pred_train[dev_index, :] = pred_dev\n",
    "        cv_scores.append(metrics.log_loss(y_dev, pred_dev))\n",
    "        print('.', end='')\n",
    "        \n",
    "    print('')\n",
    "    print(\"Mean CV LogLoss: %.3f\" % (np.mean(cv_scores)))\n",
    "    pred_test /= cv\n",
    "\n",
    "    train[prefix+'eap'] = pred_train[:, 0]\n",
    "    train[prefix+'hpl'] = pred_train[:, 1]\n",
    "    train[prefix+'mws'] = pred_train[:, 2]\n",
    "    \n",
    "    test[prefix+'eap'] = pred_test[:, 0]\n",
    "    test[prefix+'hpl'] = pred_test[:, 1]\n",
    "    test[prefix+'mws'] = pred_test[:, 2]"
   ]
  },
  {
   "cell_type": "code",
   "execution_count": null,
   "metadata": {},
   "outputs": [],
   "source": []
  }
 ],
 "metadata": {
  "kernelspec": {
   "display_name": "Python 3",
   "language": "python",
   "name": "python3"
  },
  "language_info": {
   "codemirror_mode": {
    "name": "ipython",
    "version": 3
   },
   "file_extension": ".py",
   "mimetype": "text/x-python",
   "name": "python",
   "nbconvert_exporter": "python",
   "pygments_lexer": "ipython3",
   "version": "3.8.5"
  }
 },
 "nbformat": 4,
 "nbformat_minor": 4
}
